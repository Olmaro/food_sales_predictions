{
  "nbformat": 4,
  "nbformat_minor": 0,
  "metadata": {
    "colab": {
      "name": "Distance_and_time_CORE.ipynb",
      "provenance": [],
      "collapsed_sections": [],
      "include_colab_link": true
    },
    "kernelspec": {
      "name": "python3",
      "display_name": "Python 3"
    },
    "language_info": {
      "name": "python"
    }
  },
  "cells": [
    {
      "cell_type": "markdown",
      "metadata": {
        "id": "view-in-github",
        "colab_type": "text"
      },
      "source": [
        "<a href=\"https://colab.research.google.com/github/Olmaro/food_sales_predictions/blob/main/Distance_and_time_CORE.ipynb\" target=\"_parent\"><img src=\"https://colab.research.google.com/assets/colab-badge.svg\" alt=\"Open In Colab\"/></a>"
      ]
    },
    {
      "cell_type": "markdown",
      "metadata": {
        "id": "FM-AQ_LY7Ec_"
      },
      "source": [
        "# Starter Code\n",
        "\n",
        "# Exploring NumPy Arrays: Distance and Time"
      ]
    },
    {
      "cell_type": "markdown",
      "metadata": {
        "id": "KFL-xYXw9hPp"
      },
      "source": [
        "1) Import the numpy library"
      ]
    },
    {
      "cell_type": "code",
      "metadata": {
        "id": "KfK86qGd6_sF"
      },
      "source": [
        "import numpy as np"
      ],
      "execution_count": 39,
      "outputs": []
    },
    {
      "cell_type": "markdown",
      "metadata": {
        "id": "t9qEeja29wDt"
      },
      "source": [
        "2) Create a numpy array called \"distance\" that includes the following distances (in meters): 100, 200, 400, 800, 1500, 3000, 5000, 10000"
      ]
    },
    {
      "cell_type": "code",
      "metadata": {
        "id": "yffkXrYSdvpt"
      },
      "source": [
        "distance = [100, 200, 400, 800, 1500, 3000, 5000, 10000]"
      ],
      "execution_count": 40,
      "outputs": []
    },
    {
      "cell_type": "code",
      "metadata": {
        "id": "RCNbF5yZ7Yu3",
        "colab": {
          "base_uri": "https://localhost:8080/"
        },
        "outputId": "a6135cbe-eabb-4c4c-9ce0-e7a4ed7f7954"
      },
      "source": [
        "distance_array = np.array(distance)\n",
        "distance_array"
      ],
      "execution_count": 41,
      "outputs": [
        {
          "output_type": "execute_result",
          "data": {
            "text/plain": [
              "array([  100,   200,   400,   800,  1500,  3000,  5000, 10000])"
            ]
          },
          "metadata": {},
          "execution_count": 41
        }
      ]
    },
    {
      "cell_type": "markdown",
      "metadata": {
        "id": "yJJj_-PS9-84"
      },
      "source": [
        "3) Use the np.min() and np.max() functions to find the minimum and maximum distances"
      ]
    },
    {
      "cell_type": "code",
      "metadata": {
        "id": "Cm0h775W7j1I",
        "colab": {
          "base_uri": "https://localhost:8080/"
        },
        "outputId": "2d9b053d-9bda-44bb-95e4-c990d491e619"
      },
      "source": [
        "print(np.min(distance_array))\n",
        "print(np.max(distance_array))"
      ],
      "execution_count": 42,
      "outputs": [
        {
          "output_type": "stream",
          "name": "stdout",
          "text": [
            "100\n",
            "10000\n"
          ]
        }
      ]
    },
    {
      "cell_type": "markdown",
      "metadata": {
        "id": "1GKAMKM4-D4n"
      },
      "source": [
        "4) To find the average distance, use the np.mean() function"
      ]
    },
    {
      "cell_type": "code",
      "metadata": {
        "id": "eMVVUS7D7qzi",
        "colab": {
          "base_uri": "https://localhost:8080/"
        },
        "outputId": "741737a2-ee3b-4506-f548-c1269982f825"
      },
      "source": [
        "print(np.mean(distance_array))"
      ],
      "execution_count": 43,
      "outputs": [
        {
          "output_type": "stream",
          "name": "stdout",
          "text": [
            "2625.0\n"
          ]
        }
      ]
    },
    {
      "cell_type": "markdown",
      "metadata": {
        "id": "jrsIZDBN-Lwg"
      },
      "source": [
        "5) use the np.sum() function to find the total distance"
      ]
    },
    {
      "cell_type": "code",
      "metadata": {
        "id": "hrlC2Z8Q7vFD",
        "colab": {
          "base_uri": "https://localhost:8080/"
        },
        "outputId": "8d4e463c-2031-40d5-f34b-46d88e2f0a38"
      },
      "source": [
        "print(np.sum(distance_array))"
      ],
      "execution_count": 44,
      "outputs": [
        {
          "output_type": "stream",
          "name": "stdout",
          "text": [
            "21000\n"
          ]
        }
      ]
    },
    {
      "cell_type": "markdown",
      "metadata": {
        "id": "TZh6JLbu-Qt_"
      },
      "source": [
        "6) Another valuable function is the np.cumsum() function which outputs the cumulative sum...notice the output will be 100, 300, 700 as it adds each new distance"
      ]
    },
    {
      "cell_type": "code",
      "metadata": {
        "id": "zE035Xl574vz",
        "colab": {
          "base_uri": "https://localhost:8080/"
        },
        "outputId": "832bac22-201d-4313-b1f0-6fdd1acda2e2"
      },
      "source": [
        "print(np.cumsum(distance_array))"
      ],
      "execution_count": 45,
      "outputs": [
        {
          "output_type": "stream",
          "name": "stdout",
          "text": [
            "[  100   300   700  1500  3000  6000 11000 21000]\n"
          ]
        }
      ]
    },
    {
      "cell_type": "markdown",
      "metadata": {
        "id": "XlxjutTF-XSf"
      },
      "source": [
        "7) To round all of the values in an array, use np.round()"
      ]
    },
    {
      "cell_type": "code",
      "metadata": {
        "id": "hrBA_Qqt8E3V",
        "colab": {
          "base_uri": "https://localhost:8080/"
        },
        "outputId": "4b1a1da9-9f9f-44e0-bf82-a343f8a24c77"
      },
      "source": [
        "print(np.round(distance_array))"
      ],
      "execution_count": 46,
      "outputs": [
        {
          "output_type": "stream",
          "name": "stdout",
          "text": [
            "[  100   200   400   800  1500  3000  5000 10000]\n"
          ]
        }
      ]
    },
    {
      "cell_type": "markdown",
      "metadata": {
        "id": "-wL-9Gl0-eSo"
      },
      "source": [
        "8) Create a numpy array called time that includes the following times (in seconds):  10.62, 21.34, 48.25, 113.43, 233.96, 506.53, 866.17, 1757.45"
      ]
    },
    {
      "cell_type": "code",
      "metadata": {
        "id": "KFwp2lb88KgE"
      },
      "source": [
        "time = [10.62, 21.34, 48.25, 113.43, 233.96, 506.53, 866.17, 1757.45]\n",
        "time_array = np.array(time)"
      ],
      "execution_count": 47,
      "outputs": []
    },
    {
      "cell_type": "markdown",
      "metadata": {
        "id": "MFspcIAi-kJY"
      },
      "source": [
        "9) the values in your time array correspond to olympic records for running the corresponding distances.  Perform the calculation needed to find the speed (in m/s) for each record distance.  Note that speed is distance divided by time."
      ]
    },
    {
      "cell_type": "code",
      "metadata": {
        "id": "VacJ48K3-jwq",
        "colab": {
          "base_uri": "https://localhost:8080/"
        },
        "outputId": "24970749-0d37-4252-9109-92ddcbf66ab9"
      },
      "source": [
        "speed = (distance_array / time_array)\n",
        "speed"
      ],
      "execution_count": 48,
      "outputs": [
        {
          "output_type": "execute_result",
          "data": {
            "text/plain": [
              "array([9.41619586, 9.37207123, 8.29015544, 7.0528079 , 6.41135237,\n",
              "       5.92265019, 5.77253888, 5.69006231])"
            ]
          },
          "metadata": {},
          "execution_count": 48
        }
      ]
    },
    {
      "cell_type": "markdown",
      "source": [
        ""
      ],
      "metadata": {
        "id": "1_muoiVRmzAx"
      }
    },
    {
      "cell_type": "markdown",
      "metadata": {
        "id": "BRURQ2P3-oXv"
      },
      "source": [
        "10) One common problem data scientists run into is that we are given information in units that are not consistent.  \n",
        "For example, we might want to compare data that is given in meters to second to data that is given in miles per hour. A cheetah is the fastest land animal which can reach speeds of 75.0 miles per hour.  \n",
        "In order to compare our olympians to a cheetah, we need to be able to convert from one unit to another.\n",
        "Perform calculations to convert the olympic record speeds from meters/second into miles per hour.  Note: 1 meter = 0.00062 miles\n",
        "\n",
        "How do our olympians compare to the cheetah?\n",
        "\n",
        "(Hint: Speed in m/s multiplied by 0.00062 and multiplied by 3600 will give speed in miles per hour)"
      ]
    },
    {
      "cell_type": "code",
      "metadata": {
        "id": "8LehjzOx8YY0",
        "colab": {
          "base_uri": "https://localhost:8080/"
        },
        "outputId": "4633220b-f129-49fb-86fa-36c2bffc0cf8"
      },
      "source": [
        "speed_array = np.array(speed)\n",
        "conversion = 0.00062 * 3600\n",
        "converted_speed = (speed_array) *conversion\n",
        "\n",
        "converted_speed"
      ],
      "execution_count": 49,
      "outputs": [
        {
          "output_type": "execute_result",
          "data": {
            "text/plain": [
              "array([21.01694915, 20.91846298, 18.50362694, 15.74186723, 14.31013849,\n",
              "       13.21935522, 12.88430678, 12.70021907])"
            ]
          },
          "metadata": {},
          "execution_count": 49
        }
      ]
    }
  ]
}